{
 "cells": [
  {
   "cell_type": "markdown",
   "id": "713ffd28-7bc1-42cb-8f3b-51c1e0817ef1",
   "metadata": {},
   "source": [
    "[![Open in Colab](https://colab.research.google.com/assets/colab-badge.svg)](https://colab.research.google.com/github/Mund99/Financial_Price_Forecasting/blob/main/ARIMA_model.ipynb)"
   ]
  },
  {
   "cell_type": "markdown",
   "id": "67f32437-706c-49b4-809b-324e6472de31",
   "metadata": {},
   "source": [
    "# Utils.py"
   ]
  },
  {
   "cell_type": "code",
   "execution_count": null,
   "id": "58eae575-0c89-4580-96bd-ad05abc6f4bb",
   "metadata": {},
   "outputs": [],
   "source": [
    "import pandas as pd\n",
    "import yfinance as yf\n",
    "import statsmodels.api as sm\n",
    "import matplotlib.pyplot as plt\n",
    "from sklearn import metrics\n",
    "\n",
    "\n",
    "def get_stock_data(ticker_symbol, start_date, end_date):\n",
    "    \"\"\"\n",
    "    Retrieve historical stock data from Yahoo Finance API.\n",
    "\n",
    "    Parameters:\n",
    "    - ticker_symbol: Ticker symbol of the stock (e.g., \"601988.SS\").\n",
    "    - start_date: Start date in the format \"YYYY-MM-DD\".\n",
    "    - end_date: End date in the format \"YYYY-MM-DD\".\n",
    "\n",
    "    Returns:\n",
    "    - DataFrame containing the historical stock data with 'Date' as the index\n",
    "      and frequency set to 'D' (daily).\n",
    "    \"\"\"\n",
    "    # Download historical stock data\n",
    "    df = yf.download(ticker_symbol, start=start_date, end=end_date)\n",
    "        \n",
    "    return df\n",
    "\n",
    "# Example usage:\n",
    "# stock_data = get_stock_data(\"AAPL\", \"2001-01-01\", \"2022-01-01\")\n",
    "\n",
    "\n",
    "def perform_adf_test(data):\n",
    "    \"\"\"\n",
    "    Perform Augmented Dickey-Fuller test to check for stationarity in time series data.\n",
    "\n",
    "    Parameters:\n",
    "    - data: Time series data (1D array, Series, or DataFrame column).\n",
    "\n",
    "    Returns:\n",
    "    - None\n",
    "\n",
    "    This function performs the Augmented Dickey-Fuller (ADF) test on the input time series data\n",
    "    to determine its stationarity. It prints the ADF test results, including the ADF statistic,\n",
    "    p-value, and critical values. It also provides an interpretation of the test results,\n",
    "    indicating whether the data is stationary or not based on a significance level of 0.05.\n",
    "    \"\"\"\n",
    "    # Perform Augmented Dickey-Fuller test\n",
    "    result = sm.tsa.adfuller(data)\n",
    "    \n",
    "    # Print ADF test results\n",
    "    print(\"ADF Test Results:\")\n",
    "    print(f\"ADF Statistic: {result[0]}\")\n",
    "    print(f\"P-value: {result[1]}\")\n",
    "    print(f\"Lags Used: {result[2]}\")\n",
    "    print(f\"Number of Observations Used: {result[3]}\")\n",
    "    print(\"\\nCritical Values:\")\n",
    "    \n",
    "    # Print critical values\n",
    "    for key, value in result[4].items():\n",
    "        print(f\"\\t{key}: {value}\")\n",
    "\n",
    "    # Interpret the results\n",
    "    if result[1] <= 0.05:\n",
    "        print(\"\\nReject the null hypothesis. The data is stationary.\")\n",
    "    else:\n",
    "        print(\"\\nFail to reject the null hypothesis. The data is not stationary.\")\n",
    "\n",
    "# Example usage:\n",
    "# Assuming 'data' is a pandas Series or DataFrame column containing your time series data\n",
    "# perform_adf_test(data)\n",
    "\n",
    "\n",
    "def plot_acf_pacf(data, acf_lags=40, pacf_lags=40, figsize=(10, 8)):\n",
    "    \"\"\"\n",
    "    Plot ACF and PACF for a given time series data.\n",
    "\n",
    "    Parameters:\n",
    "    - data: Time series data (1D array, Series, or DataFrame column).\n",
    "    - acf_lags: Number of lags to include in the ACF plot. Default is 40.\n",
    "    - pacf_lags: Number of lags to include in the PACF plot. Default is 40.\n",
    "    - figsize: Size of the figure (width, height). Default is (10, 8).\n",
    "\n",
    "    Returns:\n",
    "    - None (displays the plots).\n",
    "    \"\"\"\n",
    "    fig, (ax1, ax2) = plt.subplots(2, 1, figsize=figsize)\n",
    "    \n",
    "    # Plot ACF\n",
    "    sm.graphics.tsa.plot_acf(data, lags=acf_lags, ax=ax1)\n",
    "    ax1.set_title('Autocorrelation Function (ACF)')\n",
    "    ax1.set_xlabel(\"Correlation Coefficient\")\n",
    "\n",
    "    # Plot PACF\n",
    "    sm.graphics.tsa.plot_pacf(data, lags=pacf_lags, ax=ax2)\n",
    "    ax2.set_title('Partial Autocorrelation Function (PACF)')\n",
    "    ax2.set_xlabel(\"Correlation Coefficient\")\n",
    "\n",
    "    # Display the plots\n",
    "    plt.tight_layout()\n",
    "    plt.show()\n",
    "\n",
    "# Example usage:\n",
    "# Assuming 'data' is a pandas Series or DataFrame column containing your time series data\n",
    "# plot_acf_pacf(data, acf_lags=30, pacf_lags=20, figsize=(12, 6))\n",
    "\n",
    "\n",
    "def evaluation_metric(ytest, yhat, return_dict=False):\n",
    "    \"\"\"\n",
    "    Calculate and print evaluation metrics for regression models.\n",
    "\n",
    "    Parameters:\n",
    "    - ytest: True target values (ground truth).\n",
    "    - yhat: Predicted target values.\n",
    "    - return_dict: If True, return metrics as a dictionary; otherwise, print them.\n",
    "\n",
    "    Returns:\n",
    "    - Dictionary containing evaluation metrics (if return_dict=True).\n",
    "    \"\"\"\n",
    "    MSE = metrics.mean_squared_error(ytest, yhat)\n",
    "    RMSE = MSE**0.5\n",
    "    MAE = metrics.mean_absolute_error(ytest, yhat)\n",
    "    R2 = metrics.r2_score(ytest, yhat)\n",
    "\n",
    "    metrics_dict = {\n",
    "        'MSE': MSE,\n",
    "        'RMSE': RMSE,\n",
    "        'MAE': MAE,\n",
    "        'R2': R2\n",
    "    }\n",
    "\n",
    "    if return_dict:\n",
    "        return metrics_dict\n",
    "    else:\n",
    "        print('MSE: %.5f' % MSE)\n",
    "        print('RMSE: %.5f' % RMSE)\n",
    "        print('MAE: %.5f' % MAE)\n",
    "        print('R2: %.5f' % R2)\n",
    "\n",
    "# Example usage:\n",
    "# metrics_result = evaluation_metric(y_test, y_pred, return_dict=True)"
   ]
  },
  {
   "cell_type": "markdown",
   "id": "00c193ab-5d99-44fd-8b56-afa14b8e2c09",
   "metadata": {},
   "source": [
    "# 0. Import necessary libraries "
   ]
  },
  {
   "cell_type": "code",
   "execution_count": null,
   "id": "715dfe27-84c5-45fa-ae6b-dac952183544",
   "metadata": {},
   "outputs": [],
   "source": [
    "# import utils\n",
    "import pandas as pd\n",
    "import matplotlib.pyplot as plt\n",
    "from sklearn.model_selection import train_test_split\n",
    "from sklearn import metrics\n",
    "import statsmodels.api as sm\n",
    "import time \n",
    "import numpy as np"
   ]
  },
  {
   "cell_type": "markdown",
   "id": "48a0e250-98f5-4be4-b5bc-0eee87de92d9",
   "metadata": {},
   "source": [
    "# 1. Obtain Data"
   ]
  },
  {
   "cell_type": "markdown",
   "id": "236b955d-cfdb-4405-b058-0360cd22870a",
   "metadata": {},
   "source": [
    "## 1.1. Import Data"
   ]
  },
  {
   "cell_type": "code",
   "execution_count": null,
   "id": "d6e0e984-84af-41c4-988d-66dd2673fc03",
   "metadata": {},
   "outputs": [],
   "source": [
    "# Retrieve stock data \n",
    "bank_china_stock_data = get_stock_data(\"601988.SS\", \"2007-01-04\", \"2022-03-18\")"
   ]
  },
  {
   "cell_type": "markdown",
   "id": "2b8948d8-0ff8-4fd7-9390-3239a531036f",
   "metadata": {},
   "source": [
    "## 1.2. Explore Data"
   ]
  },
  {
   "cell_type": "code",
   "execution_count": null,
   "id": "cbbf7074-d228-4200-878a-26bc958f8566",
   "metadata": {
    "scrolled": true
   },
   "outputs": [],
   "source": [
    "print(f\"Data Shape: {bank_china_stock_data.shape}\")\n",
    "print(bank_china_stock_data.info()) \n",
    "bank_china_stock_data.head()"
   ]
  },
  {
   "cell_type": "code",
   "execution_count": null,
   "id": "6573a78b-f787-43e7-aa32-8166a6b1cebb",
   "metadata": {},
   "outputs": [],
   "source": [
    "# Plot the time series closing price data \n",
    "plt.figure(figsize=(12, 6))\n",
    "\n",
    "plt.plot(bank_china_stock_data['Close'], label='Bank of China Close Price', color='blue')\n",
    "\n",
    "plt.title('Bank of China Closing Price')\n",
    "plt.xlabel('Date')\n",
    "plt.ylabel('Closing Price')\n",
    "plt.grid(True)\n",
    "\n",
    "plt.legend()\n",
    "plt.show()"
   ]
  },
  {
   "cell_type": "code",
   "execution_count": null,
   "id": "e66eea89-9c7d-4512-9cff-ce578d9df41f",
   "metadata": {},
   "outputs": [],
   "source": [
    "# Perform Augmented Dickey-Fuller (ADF) test for stationarity\n",
    "adf_test_df = bank_china_stock_data[['Close']].copy()\n",
    "perform_adf_test(adf_test_df['Close'])"
   ]
  },
  {
   "cell_type": "code",
   "execution_count": null,
   "id": "030c10f2-272f-4920-b9e3-527e9a2f69aa",
   "metadata": {},
   "outputs": [],
   "source": [
    "# Perform first-order differencing (d=1)\n",
    "adf_test_df['Close_diff'] = adf_test_df['Close'].diff()\n",
    "\n",
    "# Drop any missing values created by differencing\n",
    "adf_test_df.dropna(inplace=True)\n",
    "\n",
    "# Perform the ADF test on the differenced data\n",
    "perform_adf_test(adf_test_df['Close_diff'])"
   ]
  },
  {
   "cell_type": "code",
   "execution_count": null,
   "id": "ca896cb1-6cec-4efc-a131-98c4004629cf",
   "metadata": {},
   "outputs": [],
   "source": [
    "# Plot Autocorrelation and Partial Autocorrelation functions to identify p and q values.\n",
    "plot_acf_pacf(bank_china_stock_data['Close'], acf_lags=80, pacf_lags=40, figsize=(10, 6))"
   ]
  },
  {
   "cell_type": "code",
   "execution_count": null,
   "id": "83fb316f-3df3-4383-8c34-5345d77057df",
   "metadata": {},
   "outputs": [],
   "source": [
    "plot_acf_pacf(adf_test_df['Close_diff'], acf_lags=30, pacf_lags=40, figsize=(10, 6))"
   ]
  },
  {
   "cell_type": "markdown",
   "id": "d0bce76c-d3f6-40f7-897f-3eacad6ee01d",
   "metadata": {},
   "source": [
    "## 1.3. Split Data"
   ]
  },
  {
   "cell_type": "code",
   "execution_count": null,
   "id": "09317eaa-c1cf-4d7d-8315-ddeffccb1a2e",
   "metadata": {},
   "outputs": [],
   "source": [
    "# Define the percentage of data to be used for training\n",
    "train_percentage = 0.8\n",
    "\n",
    "# Calculate the index where the data will be split\n",
    "split_index = int(len(bank_china_stock_data) * train_percentage)\n",
    "\n",
    "# Split the data into training and testing sets\n",
    "train_data = bank_china_stock_data.iloc[:split_index]\n",
    "test_data = bank_china_stock_data.iloc[split_index:]\n",
    "\n",
    "# Print the number of data points in each set\n",
    "print(f\"Number of training samples: {len(train_data)}\")\n",
    "print(f\"Number of testing samples: {len(test_data)}\")"
   ]
  },
  {
   "cell_type": "markdown",
   "id": "befedd26-c6c2-49c9-9484-3b294a606425",
   "metadata": {},
   "source": [
    "# 2. Build Model"
   ]
  },
  {
   "cell_type": "markdown",
   "id": "6d856706-5917-48ce-a550-2d06fb499cde",
   "metadata": {},
   "source": [
    "## 2.1. Baseline"
   ]
  },
  {
   "cell_type": "code",
   "execution_count": null,
   "id": "998aaa8f-bb17-47c8-a7a9-1b7c03d65b69",
   "metadata": {},
   "outputs": [],
   "source": [
    "train_mean = train_data['Close'].mean()\n",
    "pred_baseline = [train_mean] * len(train_data)\n",
    "mae_baseline = metrics.mean_absolute_error(train_data['Close'], pred_baseline)\n",
    "\n",
    "print(\"Train Mean: {}\".format(train_mean.round(2)))\n",
    "print(\"Baseline MAE: {}\".format(mae_baseline.round(2)))"
   ]
  },
  {
   "cell_type": "code",
   "execution_count": null,
   "id": "751bdff1-a7e4-4d05-b1ac-1a4aec12ff8b",
   "metadata": {},
   "outputs": [],
   "source": [
    "# Plot closing price data with baseline (mean) predictions\n",
    "plt.figure(figsize=(12, 6))\n",
    "plt.plot(train_data.index, train_data['Close'], label='True Close Price', color='blue')\n",
    "plt.plot(train_data.index, pred_baseline, label='Baseline Predictions', color='red', linestyle='--')\n",
    "\n",
    "# Set labels and title\n",
    "plt.title('True Close Price vs. Baseline Predictions')\n",
    "plt.xlabel('Date')\n",
    "plt.ylabel('Closing Price')\n",
    "plt.grid(True)\n",
    "\n",
    "# Add a legend\n",
    "plt.legend()\n",
    "\n",
    "# Show the plot\n",
    "plt.show()"
   ]
  },
  {
   "cell_type": "markdown",
   "id": "d39e4332-55db-4ba5-9c2c-f07de9cc695d",
   "metadata": {},
   "source": [
    "## 2.2. Train ARIMA Model"
   ]
  },
  {
   "cell_type": "code",
   "execution_count": null,
   "id": "2977162c-3821-4e1f-957c-1e659e54cec5",
   "metadata": {},
   "outputs": [],
   "source": [
    "# Fit the ARIMA model to the training data\n",
    "order = (2, 1, 0)\n",
    "model = sm.tsa.ARIMA(train_data['Close'].values, order=order).fit()\n",
    "model.summary()"
   ]
  },
  {
   "cell_type": "code",
   "execution_count": null,
   "id": "8e0b1fe3-84d4-4f51-8710-d7ab706c14cf",
   "metadata": {
    "scrolled": true
   },
   "outputs": [],
   "source": [
    "# Define a range of p and q values to explore\n",
    "p_values = [0, 1, 2, 3]\n",
    "q_values = [0, 1, 2]\n",
    "\n",
    "mae_grid = {}  # Initialize an empty dictionary\n",
    "\n",
    "# Initialize best_p and best_q\n",
    "best_p = None\n",
    "best_q = None\n",
    "best_mae = float('inf')\n",
    "\n",
    "# Loop through different pairs of p and q\n",
    "for p in p_values:\n",
    "    mae_grid[p] = []  # Initialize a list for each p value\n",
    "    for q in q_values:\n",
    "        start_time = time.time()\n",
    "        \n",
    "        # Train an ARIMA model\n",
    "        order = (p, 1, q)\n",
    "        model = sm.tsa.ARIMA(train_data['Close'].values, order=order).fit()\n",
    "\n",
    "        elapsed_time = round(time.time() - start_time, 2)\n",
    "        \n",
    "        # Make predictions on the training data\n",
    "        y_pred = model.fittedvalues\n",
    "        \n",
    "        # Calculate MAE for this pair of p and q\n",
    "        mae = metrics.mean_absolute_error(train_data['Close'].values, y_pred).round(4)\n",
    "        mae_grid[p].append(mae)\n",
    "        \n",
    "        # Check if this model has the lowest MAE so far\n",
    "        if mae < best_mae:\n",
    "            best_mae = mae\n",
    "            best_p = p\n",
    "            best_q = q\n",
    "        \n",
    "        print(\"Order = {}, MAE={}, Elapsed Time={} seconds\".format(order, mae, elapsed_time))\n",
    "\n",
    "print(\"\\nBest p:\", best_p)\n",
    "print(\"Best q:\", best_q)\n",
    "print(\"Best MAE:\", best_mae)"
   ]
  },
  {
   "cell_type": "markdown",
   "id": "74ce0669-3899-400b-ad7e-768d34883a1c",
   "metadata": {},
   "source": [
    "## 2.3. Prediction"
   ]
  },
  {
   "cell_type": "code",
   "execution_count": null,
   "id": "85e0cb60-bc48-4862-b747-2a4bd1a7e8c2",
   "metadata": {
    "scrolled": true
   },
   "outputs": [],
   "source": [
    "# Perform walk-forward validation on the test data\n",
    "\n",
    "# Initialize list to store the ARIMA predictions and the history of training data\n",
    "pred_arima_wfv = list()\n",
    "history = list(train_data['Close'].values.copy())\n",
    "\n",
    "for i in range(len(test_data)):\n",
    "    # Train the ARIMA model with the current history \n",
    "    model_fit = sm.tsa.ARIMA(history, order=(1, 1, 1)).fit()\n",
    "\n",
    "    # Forecast next day value (yhat)\n",
    "    yhat = model_fit.forecast()\n",
    "    yhat = float(yhat[0])\n",
    "    pred_arima_wfv.append(yhat)\n",
    "\n",
    "    # Retrieve the true value for the current iteration\n",
    "    # Append the predicted value to history\n",
    "    true_value = test_data['Close'].iloc[i]\n",
    "    history.append(true_value)\n",
    "\n",
    "    # Print the results for each iteration\n",
    "    print(\"{}: {} True value: {:.2f}, Predicted value: {:.4f}\".format(i+1, test_data.index[i].date(), true_value, yhat))"
   ]
  },
  {
   "cell_type": "code",
   "execution_count": null,
   "id": "7f4bb551-9482-4fcd-b4ff-860ac0680623",
   "metadata": {},
   "outputs": [],
   "source": [
    "# Evaluation\n",
    "evaluation_metric(test_data['Close'].values,pred_arima_wfv)"
   ]
  },
  {
   "cell_type": "markdown",
   "id": "0a38ff7f-aec2-4d9b-a11c-1d153bb5525e",
   "metadata": {},
   "source": [
    "# 3. Interpret"
   ]
  },
  {
   "cell_type": "code",
   "execution_count": null,
   "id": "eba48ae6-be2c-4424-a34f-d3d1ca0ce0d9",
   "metadata": {},
   "outputs": [],
   "source": [
    "# Plot closing price data with ARIMA model predictions\n",
    "plt.figure(figsize=(12, 6))\n",
    "plt.plot(test_data.index, test_data['Close'], label='True Close Price', color='blue')\n",
    "plt.plot(test_data.index, pred_arima_wfv, label='ARIMA Predictions', color='red', linestyle='--')\n",
    "\n",
    "# Set labels and title\n",
    "plt.title('True Close Price vs. ARIMA Model Predictions')\n",
    "plt.xlabel('Date')\n",
    "plt.ylabel('Closing Price')\n",
    "plt.grid(True)\n",
    "\n",
    "# Add a legend\n",
    "plt.legend()\n",
    "\n",
    "# Show the plot\n",
    "plt.show()"
   ]
  },
  {
   "cell_type": "code",
   "execution_count": null,
   "id": "a1a7d14d-5971-40be-91a1-00f92ed5b118",
   "metadata": {},
   "outputs": [],
   "source": [
    "arima_prediction_df = pd.DataFrame(\n",
    "    {\n",
    "        'Date': test_data.index,\n",
    "        'True Value': test_data['Close'].values,\n",
    "        'Predicted Value': pred_arima_wfv\n",
    "    }\n",
    ").set_index('Date')"
   ]
  }
 ],
 "metadata": {
  "kernelspec": {
   "display_name": "Python 3 (ipykernel)",
   "language": "python",
   "name": "python3"
  },
  "language_info": {
   "codemirror_mode": {
    "name": "ipython",
    "version": 3
   },
   "file_extension": ".py",
   "mimetype": "text/x-python",
   "name": "python",
   "nbconvert_exporter": "python",
   "pygments_lexer": "ipython3",
   "version": "3.11.3"
  }
 },
 "nbformat": 4,
 "nbformat_minor": 5
}
